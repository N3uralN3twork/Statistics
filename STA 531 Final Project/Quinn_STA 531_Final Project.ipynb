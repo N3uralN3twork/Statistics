{
 "cells": [
  {
   "cell_type": "markdown",
   "metadata": {
    "toc": true
   },
   "source": [
    "<h1>Table of Contents<span class=\"tocSkip\"></span></h1>\n",
    "<div class=\"toc\"><ul class=\"toc-item\"><li><span><a href=\"#Final-Project-for-STA-531\" data-toc-modified-id=\"Final-Project-for-STA-531-1\"><span class=\"toc-item-num\">1&nbsp;&nbsp;</span>Final Project for STA 531</a></span><ul class=\"toc-item\"><li><ul class=\"toc-item\"><li><span><a href=\"#2.-Coding-of-Predictors\" data-toc-modified-id=\"2.-Coding-of-Predictors-1.0.1\"><span class=\"toc-item-num\">1.0.1&nbsp;&nbsp;</span>2. Coding of Predictors</a></span></li><li><span><a href=\"#3.-Model-Specification\" data-toc-modified-id=\"3.-Model-Specification-1.0.2\"><span class=\"toc-item-num\">1.0.2&nbsp;&nbsp;</span>3. Model Specification</a></span></li><li><span><a href=\"#4.-Model-Estimation\" data-toc-modified-id=\"4.-Model-Estimation-1.0.3\"><span class=\"toc-item-num\">1.0.3&nbsp;&nbsp;</span>4. Model Estimation</a></span></li><li><span><a href=\"#5.-Model-Performance\" data-toc-modified-id=\"5.-Model-Performance-1.0.4\"><span class=\"toc-item-num\">1.0.4&nbsp;&nbsp;</span>5. Model Performance</a></span></li><li><span><a href=\"#6.-Model-Validity\" data-toc-modified-id=\"6.-Model-Validity-1.0.5\"><span class=\"toc-item-num\">1.0.5&nbsp;&nbsp;</span>6. Model Validity</a></span></li></ul></li></ul></li></ul></div>"
   ]
  },
  {
   "cell_type": "markdown",
   "metadata": {},
   "source": [
    "# Final Project for STA 531\n",
    "\n",
    "Goal: To predict whether or not a patient had a cardiac event given his/her recent history.\n",
    "\n",
    "[Paper project is based on](http://www.onlinejacc.org/content/accj/33/3/708.full.pdf)\n",
    "\n",
    "and\n",
    "\n",
    "[Paper 2](https://www.ncbi.nlm.nih.gov/pubmed/24898551)\n",
    "\n",
    "Basically, they were trying to predict whether or not a patient would have a cardiac event by using dobutamine stress echocardiography, or **DSE** for short, which is a drug.\n",
    "\n",
    "The drug works by raising the patient's blood pressure, and then taking various measurements like: blood pressure and heart rate. It's usually for older patients who can't exercise but still need to get his/her heart rate high enough to be measured. \n",
    "\n",
    "In summary, the paper sought to pinpoint which measurements taken during the DSE test were most helpful in predicting whether or not a patient suffered a cardiac event over the next year.\n",
    "\n",
    "We'll start with a simple model that includes only 1 covariate, **age**, and then expand on from there."
   ]
  },
  {
   "cell_type": "markdown",
   "metadata": {},
   "source": [
    "### 2. Coding of Predictors\n",
    "\n",
    "A total of 1,183 patients referred to\n",
    "the UCLA Adult Cardiac Imaging and Hemodynamics\n",
    "Laboratories for DSE between March 1991 and March\n",
    "1996"
   ]
  },
  {
   "cell_type": "code",
   "execution_count": 2,
   "metadata": {},
   "outputs": [],
   "source": [
    "# Import the dataset\n",
    "import pandas as pd\n",
    "import numpy as np"
   ]
  },
  {
   "cell_type": "markdown",
   "metadata": {},
   "source": [
    "### 3. Model Specification"
   ]
  },
  {
   "cell_type": "markdown",
   "metadata": {},
   "source": [
    "### 4. Model Estimation"
   ]
  },
  {
   "cell_type": "markdown",
   "metadata": {},
   "source": [
    "### 5. Model Performance"
   ]
  },
  {
   "cell_type": "markdown",
   "metadata": {},
   "source": [
    "### 6. Model Validity"
   ]
  }
 ],
 "metadata": {
  "kernelspec": {
   "display_name": "Python 3",
   "language": "python",
   "name": "python3"
  },
  "language_info": {
   "codemirror_mode": {
    "name": "ipython",
    "version": 3
   },
   "file_extension": ".py",
   "mimetype": "text/x-python",
   "name": "python",
   "nbconvert_exporter": "python",
   "pygments_lexer": "ipython3",
   "version": "3.7.7"
  },
  "toc": {
   "base_numbering": 1,
   "nav_menu": {},
   "number_sections": true,
   "sideBar": true,
   "skip_h1_title": false,
   "title_cell": "Table of Contents",
   "title_sidebar": "Contents",
   "toc_cell": true,
   "toc_position": {},
   "toc_section_display": true,
   "toc_window_display": false
  }
 },
 "nbformat": 4,
 "nbformat_minor": 4
}
